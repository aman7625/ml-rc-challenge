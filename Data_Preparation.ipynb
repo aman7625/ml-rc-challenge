{
 "cells": [
  {
   "cell_type": "code",
   "execution_count": null,
   "metadata": {
    "id": "I3hn6odOPrli"
   },
   "outputs": [],
   "source": [
    "import numpy as np\n",
    "import pandas as pd\n",
    "import matplotlib.pyplot as plt\n",
    "import matplotlib.image as mpimg"
   ]
  },
  {
   "cell_type": "code",
   "execution_count": null,
   "metadata": {
    "colab": {
     "base_uri": "https://localhost:8080/",
     "height": 423
    },
    "id": "s9Vjpr_nPyvR",
    "outputId": "74ff7cbe-e497-486d-f2a3-aca9443eaf66"
   },
   "outputs": [
    {
     "data": {
      "text/html": [
       "<div>\n",
       "<style scoped>\n",
       "    .dataframe tbody tr th:only-of-type {\n",
       "        vertical-align: middle;\n",
       "    }\n",
       "\n",
       "    .dataframe tbody tr th {\n",
       "        vertical-align: top;\n",
       "    }\n",
       "\n",
       "    .dataframe thead th {\n",
       "        text-align: right;\n",
       "    }\n",
       "</style>\n",
       "<table border=\"1\" class=\"dataframe\">\n",
       "  <thead>\n",
       "    <tr style=\"text-align: right;\">\n",
       "      <th></th>\n",
       "      <th>Unnamed: 0</th>\n",
       "      <th>product_name</th>\n",
       "      <th>product_id</th>\n",
       "      <th>parent_category</th>\n",
       "      <th>Image_Front</th>\n",
       "      <th>frame_shape</th>\n",
       "    </tr>\n",
       "  </thead>\n",
       "  <tbody>\n",
       "    <tr>\n",
       "      <th>0</th>\n",
       "      <td>0</td>\n",
       "      <td>Vintage Persona C4</td>\n",
       "      <td>7641</td>\n",
       "      <td>eyeframe</td>\n",
       "      <td>http://tak-apps-dev.s3.amazonaws.com/recruitme...</td>\n",
       "      <td>Rectangle</td>\n",
       "    </tr>\n",
       "    <tr>\n",
       "      <th>1</th>\n",
       "      <td>1</td>\n",
       "      <td>Vintage Crazy-X C2 Red</td>\n",
       "      <td>7643</td>\n",
       "      <td>eyeframe</td>\n",
       "      <td>http://tak-apps-dev.s3.amazonaws.com/recruitme...</td>\n",
       "      <td>Rectangle</td>\n",
       "    </tr>\n",
       "    <tr>\n",
       "      <th>2</th>\n",
       "      <td>2</td>\n",
       "      <td>Jialedi Eyewear 1086 C8 Blue</td>\n",
       "      <td>8254</td>\n",
       "      <td>eyeframe</td>\n",
       "      <td>http://tak-apps-dev.s3.amazonaws.com/recruitme...</td>\n",
       "      <td>Rectangle</td>\n",
       "    </tr>\n",
       "    <tr>\n",
       "      <th>3</th>\n",
       "      <td>3</td>\n",
       "      <td>Jialedi Eyewear 1086 C6 Red</td>\n",
       "      <td>8255</td>\n",
       "      <td>eyeframe</td>\n",
       "      <td>http://tak-apps-dev.s3.amazonaws.com/recruitme...</td>\n",
       "      <td>Rectangle</td>\n",
       "    </tr>\n",
       "    <tr>\n",
       "      <th>4</th>\n",
       "      <td>4</td>\n",
       "      <td>Jialedi Eyewear 1086 C4 Tortoise Transperent</td>\n",
       "      <td>8256</td>\n",
       "      <td>eyeframe</td>\n",
       "      <td>http://tak-apps-dev.s3.amazonaws.com/recruitme...</td>\n",
       "      <td>Rectangle</td>\n",
       "    </tr>\n",
       "    <tr>\n",
       "      <th>...</th>\n",
       "      <td>...</td>\n",
       "      <td>...</td>\n",
       "      <td>...</td>\n",
       "      <td>...</td>\n",
       "      <td>...</td>\n",
       "      <td>...</td>\n",
       "    </tr>\n",
       "    <tr>\n",
       "      <th>5564</th>\n",
       "      <td>5565</td>\n",
       "      <td>Black White Full Rim Rectangle Vincent Chase O...</td>\n",
       "      <td>99444</td>\n",
       "      <td>Non-Power Reading</td>\n",
       "      <td>http://tak-apps-dev.s3.amazonaws.com/recruitme...</td>\n",
       "      <td>Rectangle</td>\n",
       "    </tr>\n",
       "    <tr>\n",
       "      <th>5565</th>\n",
       "      <td>5566</td>\n",
       "      <td>Maroon Full Rim Rectangle Vincent Chase Online...</td>\n",
       "      <td>99445</td>\n",
       "      <td>Non-Power Reading</td>\n",
       "      <td>http://tak-apps-dev.s3.amazonaws.com/recruitme...</td>\n",
       "      <td>Rectangle</td>\n",
       "    </tr>\n",
       "    <tr>\n",
       "      <th>5566</th>\n",
       "      <td>5567</td>\n",
       "      <td>Todaywear TOI Special: Black Blue Full Rim Rec...</td>\n",
       "      <td>99446</td>\n",
       "      <td>Non-Power Reading</td>\n",
       "      <td>http://tak-apps-dev.s3.amazonaws.com/recruitme...</td>\n",
       "      <td>Rectangle</td>\n",
       "    </tr>\n",
       "    <tr>\n",
       "      <th>5567</th>\n",
       "      <td>5568</td>\n",
       "      <td>Tortoise Full Rim Rectangle Vincent Chase Onli...</td>\n",
       "      <td>99447</td>\n",
       "      <td>Non-Power Reading</td>\n",
       "      <td>http://tak-apps-dev.s3.amazonaws.com/recruitme...</td>\n",
       "      <td>Rectangle</td>\n",
       "    </tr>\n",
       "    <tr>\n",
       "      <th>5568</th>\n",
       "      <td>5569</td>\n",
       "      <td>Black Red Full Rim Rectangle Vincent Chase Onl...</td>\n",
       "      <td>99448</td>\n",
       "      <td>Non-Power Reading</td>\n",
       "      <td>http://tak-apps-dev.s3.amazonaws.com/recruitme...</td>\n",
       "      <td>Rectangle</td>\n",
       "    </tr>\n",
       "  </tbody>\n",
       "</table>\n",
       "<p>5569 rows × 6 columns</p>\n",
       "</div>"
      ],
      "text/plain": [
       "      Unnamed: 0  ... frame_shape\n",
       "0              0  ...   Rectangle\n",
       "1              1  ...   Rectangle\n",
       "2              2  ...   Rectangle\n",
       "3              3  ...   Rectangle\n",
       "4              4  ...   Rectangle\n",
       "...          ...  ...         ...\n",
       "5564        5565  ...   Rectangle\n",
       "5565        5566  ...   Rectangle\n",
       "5566        5567  ...   Rectangle\n",
       "5567        5568  ...   Rectangle\n",
       "5568        5569  ...   Rectangle\n",
       "\n",
       "[5569 rows x 6 columns]"
      ]
     },
     "execution_count": 27,
     "metadata": {},
     "output_type": "execute_result"
    }
   ],
   "source": [
    "data = pd.read_csv(\"eyewear_ml_challenge.csv\")\n",
    "df = data.copy()\n",
    "df"
   ]
  },
  {
   "cell_type": "code",
   "execution_count": null,
   "metadata": {
    "colab": {
     "base_uri": "https://localhost:8080/",
     "height": 250
    },
    "id": "siob9w3RR1cA",
    "outputId": "a27523ab-8934-4c5d-8f31-9b87d4cb1f2d"
   },
   "outputs": [
    {
     "data": {
      "image/png": "[encoded data removed]",
      "text/plain": [
       "<Figure size 432x288 with 1 Axes>"
      ]
     },
     "metadata": {
      "needs_background": "light"
     },
     "output_type": "display_data"
    }
   ],
   "source": [
    "img = mpimg.imread('0001.jpg')\n",
    "imgplot = plt.imshow(img)\n",
    "plt.show()"
   ]
  },
  {
   "cell_type": "markdown",
   "metadata": {
    "id": "gTleWGPgM8E-"
   },
   "source": [
    "# Extracting data from csv file"
   ]
  },
  {
   "cell_type": "code",
   "execution_count": null,
   "metadata": {
    "id": "_j8NBDW7S9gu"
   },
   "outputs": [],
   "source": [
    "# eyeframe (ef) - {rect, av, way, oval}\n",
    "# sunglasses (sg)\n",
    "# Non-power reading (npr)\n",
    "\n",
    "import os\n",
    "import requests # to get image from the web\n",
    "import shutil\n",
    "from PIL import Image\n",
    "\n",
    "directory = \"data\"\n",
    "os.makedirs(directory, exist_ok=True)\n",
    "\n",
    "for i in range(len(df)):\n",
    "  image_url = df['Image_Front'].iloc[i]\n",
    "  subdir = (((df['parent_category'].iloc[i])[0:3]) + \"_\" + ((df['frame_shape'].iloc[i])[0:3])).lower()\n",
    "  os.makedirs(os.path.join(directory, subdir), exist_ok=True)\n",
    "  filename = os.path.join(directory, subdir, str(i)+'.jpg')\n",
    "  r = requests.get(image_url, stream = True)\n",
    "\n",
    "  # Check if the image was retrieved successfully\n",
    "  if r.status_code == 200:\n",
    "      # Set decode_content value to True, otherwise the downloaded image file's size will be zero.\n",
    "      r.raw.decode_content = True\n",
    "    \n",
    "      # Open a local file with wb ( write binary ) permission.\n",
    "      with open(filename,'wb') as f:\n",
    "          shutil.copyfileobj(r.raw, f)\n",
    "          \n",
    "  else:\n",
    "      #dropping the row from which image cannot be retrieved\n",
    "      df.drop(df.index[i])\n",
    "\n"
   ]
  },
  {
   "cell_type": "markdown",
   "metadata": {
    "id": "O3qPV38CMny_"
   },
   "source": [
    "# Exporting the data as Zip folder"
   ]
  },
  {
   "cell_type": "code",
   "execution_count": null,
   "metadata": {
    "id": "KR2e7JsonT73"
   },
   "outputs": [],
   "source": [
    "!zip -r /content/data.zip /content/data"
   ]
  },
  {
   "cell_type": "code",
   "execution_count": null,
   "metadata": {
    "colab": {
     "base_uri": "https://localhost:8080/",
     "height": 17
    },
    "id": "Z099TPX5Si-o",
    "outputId": "64a6e383-9d90-4008-90f8-37995f6f932b"
   },
   "outputs": [
    {
     "data": {
      "application/javascript": [
       "\n",
       "    async function download(id, filename, size) {\n",
       "      if (!google.colab.kernel.accessAllowed) {\n",
       "        return;\n",
       "      }\n",
       "      const div = document.createElement('div');\n",
       "      const label = document.createElement('label');\n",
       "      label.textContent = `Downloading \"${filename}\": `;\n",
       "      div.appendChild(label);\n",
       "      const progress = document.createElement('progress');\n",
       "      progress.max = size;\n",
       "      div.appendChild(progress);\n",
       "      document.body.appendChild(div);\n",
       "\n",
       "      const buffers = [];\n",
       "      let downloaded = 0;\n",
       "\n",
       "      const channel = await google.colab.kernel.comms.open(id);\n",
       "      // Send a message to notify the kernel that we're ready.\n",
       "      channel.send({})\n",
       "\n",
       "      for await (const message of channel.messages) {\n",
       "        // Send a message to notify the kernel that we're ready.\n",
       "        channel.send({})\n",
       "        if (message.buffers) {\n",
       "          for (const buffer of message.buffers) {\n",
       "            buffers.push(buffer);\n",
       "            downloaded += buffer.byteLength;\n",
       "            progress.value = downloaded;\n",
       "          }\n",
       "        }\n",
       "      }\n",
       "      const blob = new Blob(buffers, {type: 'application/binary'});\n",
       "      const a = document.createElement('a');\n",
       "      a.href = window.URL.createObjectURL(blob);\n",
       "      a.download = filename;\n",
       "      div.appendChild(a);\n",
       "      a.click();\n",
       "      div.remove();\n",
       "    }\n",
       "  "
      ],
      "text/plain": [
       "<IPython.core.display.Javascript object>"
      ]
     },
     "metadata": {},
     "output_type": "display_data"
    },
    {
     "data": {
      "application/javascript": [
       "download(\"download_c98a423b-c22f-40b0-ab0f-5c3c891d56ca\", \"data.zip\", 288295599)"
      ],
      "text/plain": [
       "<IPython.core.display.Javascript object>"
      ]
     },
     "metadata": {},
     "output_type": "display_data"
    },
    {
     "data": {
      "application/javascript": [
       "\n",
       "    async function download(id, filename, size) {\n",
       "      if (!google.colab.kernel.accessAllowed) {\n",
       "        return;\n",
       "      }\n",
       "      const div = document.createElement('div');\n",
       "      const label = document.createElement('label');\n",
       "      label.textContent = `Downloading \"${filename}\": `;\n",
       "      div.appendChild(label);\n",
       "      const progress = document.createElement('progress');\n",
       "      progress.max = size;\n",
       "      div.appendChild(progress);\n",
       "      document.body.appendChild(div);\n",
       "\n",
       "      const buffers = [];\n",
       "      let downloaded = 0;\n",
       "\n",
       "      const channel = await google.colab.kernel.comms.open(id);\n",
       "      // Send a message to notify the kernel that we're ready.\n",
       "      channel.send({})\n",
       "\n",
       "      for await (const message of channel.messages) {\n",
       "        // Send a message to notify the kernel that we're ready.\n",
       "        channel.send({})\n",
       "        if (message.buffers) {\n",
       "          for (const buffer of message.buffers) {\n",
       "            buffers.push(buffer);\n",
       "            downloaded += buffer.byteLength;\n",
       "            progress.value = downloaded;\n",
       "          }\n",
       "        }\n",
       "      }\n",
       "      const blob = new Blob(buffers, {type: 'application/binary'});\n",
       "      const a = document.createElement('a');\n",
       "      a.href = window.URL.createObjectURL(blob);\n",
       "      a.download = filename;\n",
       "      div.appendChild(a);\n",
       "      a.click();\n",
       "      div.remove();\n",
       "    }\n",
       "  "
      ],
      "text/plain": [
       "<IPython.core.display.Javascript object>"
      ]
     },
     "metadata": {},
     "output_type": "display_data"
    },
    {
     "data": {
      "application/javascript": [
       "download(\"download_a9b3ab5d-2e62-4eb6-ad10-67241caedceb\", \"df.csv\", 1066395)"
      ],
      "text/plain": [
       "<IPython.core.display.Javascript object>"
      ]
     },
     "metadata": {},
     "output_type": "display_data"
    }
   ],
   "source": [
    "from google.colab import files\n",
    "files.download(\"/content/data.zip\")\n",
    "\n",
    "df.to_csv('df.csv')\n",
    "files.download('df.csv')"
   ]
  }
 ],
 "metadata": {
  "colab": {
   "name": "data_Preparation.ipynb",
   "provenance": []
  },
  "kernelspec": {
   "display_name": "Python 3 (ipykernel)",
   "language": "python",
   "name": "python3"
  },
  "language_info": {
   "codemirror_mode": {
    "name": "ipython",
    "version": 3
   },
   "file_extension": ".py",
   "mimetype": "text/x-python",
   "name": "python",
   "nbconvert_exporter": "python",
   "pygments_lexer": "ipython3",
   "version": "3.9.7"
  }
 },
 "nbformat": 4,
 "nbformat_minor": 1
}
